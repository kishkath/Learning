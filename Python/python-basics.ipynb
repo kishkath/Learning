{
 "cells": [
  {
   "cell_type": "markdown",
   "metadata": {},
   "source": [
    "# python-basics\n",
    "\n",
    "Use the \"Run\" button to execute the code."
   ]
  },
  {
   "cell_type": "code",
   "execution_count": 1,
   "metadata": {},
   "outputs": [],
   "source": [
    "!pip install jovian --upgrade --quiet"
   ]
  },
  {
   "cell_type": "code",
   "execution_count": 2,
   "metadata": {},
   "outputs": [],
   "source": [
    "import jovian"
   ]
  },
  {
   "cell_type": "code",
   "execution_count": 3,
   "metadata": {},
   "outputs": [
    {
     "data": {
      "application/javascript": [
       "window.require && require([\"base/js/namespace\"],function(Jupyter){Jupyter.notebook.save_checkpoint()})"
      ],
      "text/plain": [
       "<IPython.core.display.Javascript object>"
      ]
     },
     "metadata": {},
     "output_type": "display_data"
    },
    {
     "name": "stdout",
     "output_type": "stream",
     "text": [
      "[jovian] Updating notebook \"kishkath/python-basics\" on https://jovian.ai\u001b[0m\n",
      "[jovian] Committed successfully! https://jovian.ai/kishkath/python-basics\u001b[0m\n"
     ]
    },
    {
     "data": {
      "text/plain": [
       "'https://jovian.ai/kishkath/python-basics'"
      ]
     },
     "execution_count": 3,
     "metadata": {},
     "output_type": "execute_result"
    }
   ],
   "source": [
    "# Execute this to save new versions of the notebook\n",
    "jovian.commit(project=\"python-basics\")"
   ]
  },
  {
   "cell_type": "markdown",
   "metadata": {},
   "source": [
    "Create a variable named pi and store the value 22/7 in it. Now check the data type of this variable.\n",
    "\n",
    "Create a variable called for and assign it a value 4. See what happens and find out the reason behind the behavior that you see.\n",
    "\n",
    "Store the principal amount, rate of interest, and time in different variables and then calculate the Simple Interest for 3 years "
   ]
  },
  {
   "cell_type": "markdown",
   "metadata": {},
   "source": [
    "**1. Create a variable named pi and store the value 22/7 in it. Now check the data type of this variable**"
   ]
  },
  {
   "cell_type": "code",
   "execution_count": 20,
   "metadata": {},
   "outputs": [
    {
     "name": "stdout",
     "output_type": "stream",
     "text": [
      "<class 'float'>\n"
     ]
    }
   ],
   "source": [
    "pi = (22/7)\n",
    "print(type(pi))"
   ]
  },
  {
   "cell_type": "markdown",
   "metadata": {},
   "source": [
    "**2. Create a variable called for and assign it a value 4. See what happens and find out the reason behind the behavior that you see.**"
   ]
  },
  {
   "cell_type": "code",
   "execution_count": 21,
   "metadata": {},
   "outputs": [
    {
     "ename": "SyntaxError",
     "evalue": "invalid syntax (1030532464.py, line 1)",
     "output_type": "error",
     "traceback": [
      "\u001b[0;36m  File \u001b[0;32m\"/tmp/ipykernel_41/1030532464.py\"\u001b[0;36m, line \u001b[0;32m1\u001b[0m\n\u001b[0;31m    called for = 4\u001b[0m\n\u001b[0m           ^\u001b[0m\n\u001b[0;31mSyntaxError\u001b[0m\u001b[0;31m:\u001b[0m invalid syntax\n"
     ]
    }
   ],
   "source": [
    "called for = 4 \n",
    "\n",
    "# print(type(value))\n",
    "\n",
    "# As the Variable name shouldn't contain space, it is invalid."
   ]
  },
  {
   "cell_type": "markdown",
   "metadata": {},
   "source": [
    "**3. Store the principal amount, rate of interest, and time in different variables and then calculate the Simple Interest for 3 years**"
   ]
  },
  {
   "cell_type": "markdown",
   "metadata": {},
   "source": [
    "**Formula:**\n",
    "\n",
    "**Simple Interest =  P x R x T / 100**"
   ]
  },
  {
   "cell_type": "code",
   "execution_count": 23,
   "metadata": {},
   "outputs": [
    {
     "name": "stdout",
     "output_type": "stream",
     "text": [
      "0.4\n"
     ]
    }
   ],
   "source": [
    "principal_amount = 200 \n",
    "rate_of_interest = 0.05 \n",
    "time = 4 \n",
    "\n",
    "Simple_interest = (principal_amount*(rate_of_interest)*4)/100\n",
    "print(Simple_interest)"
   ]
  },
  {
   "cell_type": "markdown",
   "metadata": {},
   "source": [
    "# Numbers"
   ]
  },
  {
   "cell_type": "markdown",
   "metadata": {},
   "source": [
    "1. Remember the format() function we used in the last video?? Now pass 145 and ‘o’ in the function and see what it returns. Try to find out which representation it is."
   ]
  },
  {
   "cell_type": "code",
   "execution_count": 24,
   "metadata": {},
   "outputs": [
    {
     "data": {
      "text/plain": [
       "'221'"
      ]
     },
     "execution_count": 24,
     "metadata": {},
     "output_type": "execute_result"
    }
   ],
   "source": [
    "format(145,'o')"
   ]
  },
  {
   "cell_type": "code",
   "execution_count": 25,
   "metadata": {},
   "outputs": [
    {
     "data": {
      "text/plain": [
       "'10010001'"
      ]
     },
     "execution_count": 25,
     "metadata": {},
     "output_type": "execute_result"
    }
   ],
   "source": [
    "format(145,'b')"
   ]
  },
  {
   "cell_type": "code",
   "execution_count": 26,
   "metadata": {},
   "outputs": [
    {
     "data": {
      "text/plain": [
       "'1000'"
      ]
     },
     "execution_count": 26,
     "metadata": {},
     "output_type": "execute_result"
    }
   ],
   "source": [
    "format(8,'b')"
   ]
  },
  {
   "cell_type": "markdown",
   "metadata": {},
   "source": [
    "**Inference: format() function will give  the format specified in the second parameter.**"
   ]
  },
  {
   "cell_type": "markdown",
   "metadata": {},
   "source": [
    "2. There is a circular pond in a village. This pond has a radius of 84 meters. Can you find the area of the pond? (Bonus: If there is exactly 1.4 liter of water in a square meter, what is the total amount of water in the pond?)\n",
    "\n",
    "                     Hint:\n",
    "                     Circle Area = πr2"
   ]
  },
  {
   "cell_type": "code",
   "execution_count": 27,
   "metadata": {},
   "outputs": [
    {
     "name": "stdout",
     "output_type": "stream",
     "text": [
      "Area of circle is: 22155.84\n"
     ]
    }
   ],
   "source": [
    "radius = 84 \n",
    "pi = 3.14\n",
    "circleArea = pi*(radius**2)\n",
    "print(f'Area of circle is: {circleArea}')"
   ]
  },
  {
   "cell_type": "markdown",
   "metadata": {},
   "source": [
    "3. If you cross a 490-meter-long street in 7 minutes, then what is your speed in meters per second? Print your answer without any decimal point in it.\n",
    "\n",
    "                     Hint:\n",
    "                     Speed = Distance / Time"
   ]
  },
  {
   "cell_type": "code",
   "execution_count": 28,
   "metadata": {},
   "outputs": [
    {
     "name": "stdout",
     "output_type": "stream",
     "text": [
      "Speed required to cross a 490-m  is 1.17m/s\n"
     ]
    }
   ],
   "source": [
    "Distance = 490 \n",
    "time = 7*60 # need to convert to sec\n",
    "\n",
    "speed = Distance/time\n",
    "print(f'Speed required to cross a 490-m  is {round(speed,2)}m/s')"
   ]
  },
  {
   "cell_type": "markdown",
   "metadata": {},
   "source": [
    "# Strings!"
   ]
  },
  {
   "cell_type": "markdown",
   "metadata": {},
   "source": [
    "1. Open the Jupyter notebook and type this code `help(str)` in the code cell and press CTRL+enter. Now see what it returns? Go through these string methods and try to practice them."
   ]
  },
  {
   "cell_type": "code",
   "execution_count": 29,
   "metadata": {},
   "outputs": [
    {
     "name": "stdout",
     "output_type": "stream",
     "text": [
      "Help on class str in module builtins:\n",
      "\n",
      "class str(object)\n",
      " |  str(object='') -> str\n",
      " |  str(bytes_or_buffer[, encoding[, errors]]) -> str\n",
      " |  \n",
      " |  Create a new string object from the given object. If encoding or\n",
      " |  errors is specified, then the object must expose a data buffer\n",
      " |  that will be decoded using the given encoding and error handler.\n",
      " |  Otherwise, returns the result of object.__str__() (if defined)\n",
      " |  or repr(object).\n",
      " |  encoding defaults to sys.getdefaultencoding().\n",
      " |  errors defaults to 'strict'.\n",
      " |  \n",
      " |  Methods defined here:\n",
      " |  \n",
      " |  __add__(self, value, /)\n",
      " |      Return self+value.\n",
      " |  \n",
      " |  __contains__(self, key, /)\n",
      " |      Return key in self.\n",
      " |  \n",
      " |  __eq__(self, value, /)\n",
      " |      Return self==value.\n",
      " |  \n",
      " |  __format__(self, format_spec, /)\n",
      " |      Return a formatted version of the string as described by format_spec.\n",
      " |  \n",
      " |  __ge__(self, value, /)\n",
      " |      Return self>=value.\n",
      " |  \n",
      " |  __getattribute__(self, name, /)\n",
      " |      Return getattr(self, name).\n",
      " |  \n",
      " |  __getitem__(self, key, /)\n",
      " |      Return self[key].\n",
      " |  \n",
      " |  __getnewargs__(...)\n",
      " |  \n",
      " |  __gt__(self, value, /)\n",
      " |      Return self>value.\n",
      " |  \n",
      " |  __hash__(self, /)\n",
      " |      Return hash(self).\n",
      " |  \n",
      " |  __iter__(self, /)\n",
      " |      Implement iter(self).\n",
      " |  \n",
      " |  __le__(self, value, /)\n",
      " |      Return self<=value.\n",
      " |  \n",
      " |  __len__(self, /)\n",
      " |      Return len(self).\n",
      " |  \n",
      " |  __lt__(self, value, /)\n",
      " |      Return self<value.\n",
      " |  \n",
      " |  __mod__(self, value, /)\n",
      " |      Return self%value.\n",
      " |  \n",
      " |  __mul__(self, value, /)\n",
      " |      Return self*value.\n",
      " |  \n",
      " |  __ne__(self, value, /)\n",
      " |      Return self!=value.\n",
      " |  \n",
      " |  __repr__(self, /)\n",
      " |      Return repr(self).\n",
      " |  \n",
      " |  __rmod__(self, value, /)\n",
      " |      Return value%self.\n",
      " |  \n",
      " |  __rmul__(self, value, /)\n",
      " |      Return value*self.\n",
      " |  \n",
      " |  __sizeof__(self, /)\n",
      " |      Return the size of the string in memory, in bytes.\n",
      " |  \n",
      " |  __str__(self, /)\n",
      " |      Return str(self).\n",
      " |  \n",
      " |  capitalize(self, /)\n",
      " |      Return a capitalized version of the string.\n",
      " |      \n",
      " |      More specifically, make the first character have upper case and the rest lower\n",
      " |      case.\n",
      " |  \n",
      " |  casefold(self, /)\n",
      " |      Return a version of the string suitable for caseless comparisons.\n",
      " |  \n",
      " |  center(self, width, fillchar=' ', /)\n",
      " |      Return a centered string of length width.\n",
      " |      \n",
      " |      Padding is done using the specified fill character (default is a space).\n",
      " |  \n",
      " |  count(...)\n",
      " |      S.count(sub[, start[, end]]) -> int\n",
      " |      \n",
      " |      Return the number of non-overlapping occurrences of substring sub in\n",
      " |      string S[start:end].  Optional arguments start and end are\n",
      " |      interpreted as in slice notation.\n",
      " |  \n",
      " |  encode(self, /, encoding='utf-8', errors='strict')\n",
      " |      Encode the string using the codec registered for encoding.\n",
      " |      \n",
      " |      encoding\n",
      " |        The encoding in which to encode the string.\n",
      " |      errors\n",
      " |        The error handling scheme to use for encoding errors.\n",
      " |        The default is 'strict' meaning that encoding errors raise a\n",
      " |        UnicodeEncodeError.  Other possible values are 'ignore', 'replace' and\n",
      " |        'xmlcharrefreplace' as well as any other name registered with\n",
      " |        codecs.register_error that can handle UnicodeEncodeErrors.\n",
      " |  \n",
      " |  endswith(...)\n",
      " |      S.endswith(suffix[, start[, end]]) -> bool\n",
      " |      \n",
      " |      Return True if S ends with the specified suffix, False otherwise.\n",
      " |      With optional start, test S beginning at that position.\n",
      " |      With optional end, stop comparing S at that position.\n",
      " |      suffix can also be a tuple of strings to try.\n",
      " |  \n",
      " |  expandtabs(self, /, tabsize=8)\n",
      " |      Return a copy where all tab characters are expanded using spaces.\n",
      " |      \n",
      " |      If tabsize is not given, a tab size of 8 characters is assumed.\n",
      " |  \n",
      " |  find(...)\n",
      " |      S.find(sub[, start[, end]]) -> int\n",
      " |      \n",
      " |      Return the lowest index in S where substring sub is found,\n",
      " |      such that sub is contained within S[start:end].  Optional\n",
      " |      arguments start and end are interpreted as in slice notation.\n",
      " |      \n",
      " |      Return -1 on failure.\n",
      " |  \n",
      " |  format(...)\n",
      " |      S.format(*args, **kwargs) -> str\n",
      " |      \n",
      " |      Return a formatted version of S, using substitutions from args and kwargs.\n",
      " |      The substitutions are identified by braces ('{' and '}').\n",
      " |  \n",
      " |  format_map(...)\n",
      " |      S.format_map(mapping) -> str\n",
      " |      \n",
      " |      Return a formatted version of S, using substitutions from mapping.\n",
      " |      The substitutions are identified by braces ('{' and '}').\n",
      " |  \n",
      " |  index(...)\n",
      " |      S.index(sub[, start[, end]]) -> int\n",
      " |      \n",
      " |      Return the lowest index in S where substring sub is found,\n",
      " |      such that sub is contained within S[start:end].  Optional\n",
      " |      arguments start and end are interpreted as in slice notation.\n",
      " |      \n",
      " |      Raises ValueError when the substring is not found.\n",
      " |  \n",
      " |  isalnum(self, /)\n",
      " |      Return True if the string is an alpha-numeric string, False otherwise.\n",
      " |      \n",
      " |      A string is alpha-numeric if all characters in the string are alpha-numeric and\n",
      " |      there is at least one character in the string.\n",
      " |  \n",
      " |  isalpha(self, /)\n",
      " |      Return True if the string is an alphabetic string, False otherwise.\n",
      " |      \n",
      " |      A string is alphabetic if all characters in the string are alphabetic and there\n",
      " |      is at least one character in the string.\n",
      " |  \n",
      " |  isascii(self, /)\n",
      " |      Return True if all characters in the string are ASCII, False otherwise.\n",
      " |      \n",
      " |      ASCII characters have code points in the range U+0000-U+007F.\n",
      " |      Empty string is ASCII too.\n",
      " |  \n",
      " |  isdecimal(self, /)\n",
      " |      Return True if the string is a decimal string, False otherwise.\n",
      " |      \n",
      " |      A string is a decimal string if all characters in the string are decimal and\n",
      " |      there is at least one character in the string.\n",
      " |  \n",
      " |  isdigit(self, /)\n",
      " |      Return True if the string is a digit string, False otherwise.\n",
      " |      \n",
      " |      A string is a digit string if all characters in the string are digits and there\n",
      " |      is at least one character in the string.\n",
      " |  \n",
      " |  isidentifier(self, /)\n",
      " |      Return True if the string is a valid Python identifier, False otherwise.\n",
      " |      \n",
      " |      Call keyword.iskeyword(s) to test whether string s is a reserved identifier,\n",
      " |      such as \"def\" or \"class\".\n",
      " |  \n",
      " |  islower(self, /)\n",
      " |      Return True if the string is a lowercase string, False otherwise.\n",
      " |      \n",
      " |      A string is lowercase if all cased characters in the string are lowercase and\n",
      " |      there is at least one cased character in the string.\n",
      " |  \n",
      " |  isnumeric(self, /)\n",
      " |      Return True if the string is a numeric string, False otherwise.\n",
      " |      \n",
      " |      A string is numeric if all characters in the string are numeric and there is at\n",
      " |      least one character in the string.\n",
      " |  \n",
      " |  isprintable(self, /)\n",
      " |      Return True if the string is printable, False otherwise.\n",
      " |      \n",
      " |      A string is printable if all of its characters are considered printable in\n",
      " |      repr() or if it is empty.\n",
      " |  \n",
      " |  isspace(self, /)\n",
      " |      Return True if the string is a whitespace string, False otherwise.\n",
      " |      \n",
      " |      A string is whitespace if all characters in the string are whitespace and there\n",
      " |      is at least one character in the string.\n",
      " |  \n",
      " |  istitle(self, /)\n",
      " |      Return True if the string is a title-cased string, False otherwise.\n",
      " |      \n",
      " |      In a title-cased string, upper- and title-case characters may only\n",
      " |      follow uncased characters and lowercase characters only cased ones.\n",
      " |  \n",
      " |  isupper(self, /)\n",
      " |      Return True if the string is an uppercase string, False otherwise.\n",
      " |      \n",
      " |      A string is uppercase if all cased characters in the string are uppercase and\n",
      " |      there is at least one cased character in the string.\n",
      " |  \n",
      " |  join(self, iterable, /)\n",
      " |      Concatenate any number of strings.\n",
      " |      \n",
      " |      The string whose method is called is inserted in between each given string.\n",
      " |      The result is returned as a new string.\n",
      " |      \n",
      " |      Example: '.'.join(['ab', 'pq', 'rs']) -> 'ab.pq.rs'\n",
      " |  \n",
      " |  ljust(self, width, fillchar=' ', /)\n",
      " |      Return a left-justified string of length width.\n",
      " |      \n",
      " |      Padding is done using the specified fill character (default is a space).\n",
      " |  \n",
      " |  lower(self, /)\n",
      " |      Return a copy of the string converted to lowercase.\n",
      " |  \n",
      " |  lstrip(self, chars=None, /)\n",
      " |      Return a copy of the string with leading whitespace removed.\n",
      " |      \n",
      " |      If chars is given and not None, remove characters in chars instead.\n",
      " |  \n",
      " |  partition(self, sep, /)\n",
      " |      Partition the string into three parts using the given separator.\n",
      " |      \n",
      " |      This will search for the separator in the string.  If the separator is found,\n",
      " |      returns a 3-tuple containing the part before the separator, the separator\n",
      " |      itself, and the part after it.\n",
      " |      \n",
      " |      If the separator is not found, returns a 3-tuple containing the original string\n",
      " |      and two empty strings.\n",
      " |  \n",
      " |  removeprefix(self, prefix, /)\n",
      " |      Return a str with the given prefix string removed if present.\n",
      " |      \n",
      " |      If the string starts with the prefix string, return string[len(prefix):].\n",
      " |      Otherwise, return a copy of the original string.\n",
      " |  \n",
      " |  removesuffix(self, suffix, /)\n",
      " |      Return a str with the given suffix string removed if present.\n",
      " |      \n",
      " |      If the string ends with the suffix string and that suffix is not empty,\n",
      " |      return string[:-len(suffix)]. Otherwise, return a copy of the original\n",
      " |      string.\n",
      " |  \n",
      " |  replace(self, old, new, count=-1, /)\n",
      " |      Return a copy with all occurrences of substring old replaced by new.\n",
      " |      \n",
      " |        count\n",
      " |          Maximum number of occurrences to replace.\n",
      " |          -1 (the default value) means replace all occurrences.\n",
      " |      \n",
      " |      If the optional argument count is given, only the first count occurrences are\n",
      " |      replaced.\n",
      " |  \n",
      " |  rfind(...)\n",
      " |      S.rfind(sub[, start[, end]]) -> int\n",
      " |      \n",
      " |      Return the highest index in S where substring sub is found,\n",
      " |      such that sub is contained within S[start:end].  Optional\n",
      " |      arguments start and end are interpreted as in slice notation.\n",
      " |      \n",
      " |      Return -1 on failure.\n",
      " |  \n",
      " |  rindex(...)\n",
      " |      S.rindex(sub[, start[, end]]) -> int\n",
      " |      \n",
      " |      Return the highest index in S where substring sub is found,\n",
      " |      such that sub is contained within S[start:end].  Optional\n",
      " |      arguments start and end are interpreted as in slice notation.\n",
      " |      \n",
      " |      Raises ValueError when the substring is not found.\n",
      " |  \n",
      " |  rjust(self, width, fillchar=' ', /)\n",
      " |      Return a right-justified string of length width.\n",
      " |      \n",
      " |      Padding is done using the specified fill character (default is a space).\n",
      " |  \n",
      " |  rpartition(self, sep, /)\n",
      " |      Partition the string into three parts using the given separator.\n",
      " |      \n",
      " |      This will search for the separator in the string, starting at the end. If\n",
      " |      the separator is found, returns a 3-tuple containing the part before the\n",
      " |      separator, the separator itself, and the part after it.\n",
      " |      \n",
      " |      If the separator is not found, returns a 3-tuple containing two empty strings\n",
      " |      and the original string.\n",
      " |  \n",
      " |  rsplit(self, /, sep=None, maxsplit=-1)\n",
      " |      Return a list of the words in the string, using sep as the delimiter string.\n",
      " |      \n",
      " |        sep\n",
      " |          The delimiter according which to split the string.\n",
      " |          None (the default value) means split according to any whitespace,\n",
      " |          and discard empty strings from the result.\n",
      " |        maxsplit\n",
      " |          Maximum number of splits to do.\n",
      " |          -1 (the default value) means no limit.\n",
      " |      \n",
      " |      Splits are done starting at the end of the string and working to the front.\n",
      " |  \n",
      " |  rstrip(self, chars=None, /)\n",
      " |      Return a copy of the string with trailing whitespace removed.\n",
      " |      \n",
      " |      If chars is given and not None, remove characters in chars instead.\n",
      " |  \n",
      " |  split(self, /, sep=None, maxsplit=-1)\n",
      " |      Return a list of the words in the string, using sep as the delimiter string.\n",
      " |      \n",
      " |      sep\n",
      " |        The delimiter according which to split the string.\n",
      " |        None (the default value) means split according to any whitespace,\n",
      " |        and discard empty strings from the result.\n",
      " |      maxsplit\n",
      " |        Maximum number of splits to do.\n",
      " |        -1 (the default value) means no limit.\n",
      " |  \n",
      " |  splitlines(self, /, keepends=False)\n",
      " |      Return a list of the lines in the string, breaking at line boundaries.\n",
      " |      \n",
      " |      Line breaks are not included in the resulting list unless keepends is given and\n",
      " |      true.\n",
      " |  \n",
      " |  startswith(...)\n",
      " |      S.startswith(prefix[, start[, end]]) -> bool\n",
      " |      \n",
      " |      Return True if S starts with the specified prefix, False otherwise.\n",
      " |      With optional start, test S beginning at that position.\n",
      " |      With optional end, stop comparing S at that position.\n",
      " |      prefix can also be a tuple of strings to try.\n",
      " |  \n",
      " |  strip(self, chars=None, /)\n",
      " |      Return a copy of the string with leading and trailing whitespace removed.\n",
      " |      \n",
      " |      If chars is given and not None, remove characters in chars instead.\n",
      " |  \n",
      " |  swapcase(self, /)\n",
      " |      Convert uppercase characters to lowercase and lowercase characters to uppercase.\n",
      " |  \n",
      " |  title(self, /)\n",
      " |      Return a version of the string where each word is titlecased.\n",
      " |      \n",
      " |      More specifically, words start with uppercased characters and all remaining\n",
      " |      cased characters have lower case.\n",
      " |  \n",
      " |  translate(self, table, /)\n",
      " |      Replace each character in the string using the given translation table.\n",
      " |      \n",
      " |        table\n",
      " |          Translation table, which must be a mapping of Unicode ordinals to\n",
      " |          Unicode ordinals, strings, or None.\n",
      " |      \n",
      " |      The table must implement lookup/indexing via __getitem__, for instance a\n",
      " |      dictionary or list.  If this operation raises LookupError, the character is\n",
      " |      left untouched.  Characters mapped to None are deleted.\n",
      " |  \n",
      " |  upper(self, /)\n",
      " |      Return a copy of the string converted to uppercase.\n",
      " |  \n",
      " |  zfill(self, width, /)\n",
      " |      Pad a numeric string with zeros on the left, to fill a field of the given width.\n",
      " |      \n",
      " |      The string is never truncated.\n",
      " |  \n",
      " |  ----------------------------------------------------------------------\n",
      " |  Static methods defined here:\n",
      " |  \n",
      " |  __new__(*args, **kwargs) from builtins.type\n",
      " |      Create and return a new object.  See help(type) for accurate signature.\n",
      " |  \n",
      " |  maketrans(...)\n",
      " |      Return a translation table usable for str.translate().\n",
      " |      \n",
      " |      If there is only one argument, it must be a dictionary mapping Unicode\n",
      " |      ordinals (integers) or characters to Unicode ordinals, strings or None.\n",
      " |      Character keys will be then converted to ordinals.\n",
      " |      If there are two arguments, they must be strings of equal length, and\n",
      " |      in the resulting dictionary, each character in x will be mapped to the\n",
      " |      character at the same position in y. If there is a third argument, it\n",
      " |      must be a string, whose characters will be mapped to None in the result.\n",
      "\n"
     ]
    }
   ],
   "source": [
    "help(str)"
   ]
  },
  {
   "cell_type": "code",
   "execution_count": 30,
   "metadata": {
    "code_folding": [
     0
    ]
   },
   "outputs": [
    {
     "name": "stdout",
     "output_type": "stream",
     "text": [
      "Yes\n"
     ]
    }
   ],
   "source": [
    "num = 3\n",
    "if str(num).isdigit():\n",
    "    print('Yes')"
   ]
  },
  {
   "cell_type": "code",
   "execution_count": 31,
   "metadata": {},
   "outputs": [
    {
     "name": "stdout",
     "output_type": "stream",
     "text": [
      "Yes\n"
     ]
    }
   ],
   "source": [
    "if str(num).isnumeric():\n",
    "    print('Yes')"
   ]
  },
  {
   "cell_type": "code",
   "execution_count": 32,
   "metadata": {},
   "outputs": [
    {
     "data": {
      "text/plain": [
       "'ram--'"
      ]
     },
     "execution_count": 32,
     "metadata": {},
     "output_type": "execute_result"
    }
   ],
   "source": [
    "name = \"ram-- \"\n",
    "name.rstrip(' ')"
   ]
  },
  {
   "cell_type": "code",
   "execution_count": 33,
   "metadata": {},
   "outputs": [
    {
     "data": {
      "text/plain": [
       "['ram', 'has', 'chocolates']"
      ]
     },
     "execution_count": 33,
     "metadata": {},
     "output_type": "execute_result"
    }
   ],
   "source": [
    "names = \"ram has chocolates\"\n",
    "names.split()"
   ]
  },
  {
   "cell_type": "code",
   "execution_count": 34,
   "metadata": {},
   "outputs": [
    {
     "data": {
      "text/plain": [
       "'It is okforyou'"
      ]
     },
     "execution_count": 34,
     "metadata": {},
     "output_type": "execute_result"
    }
   ],
   "source": [
    "statement = \"It is okforyou\"\n",
    "statement.removesuffix(statement[:-5])"
   ]
  },
  {
   "cell_type": "code",
   "execution_count": 35,
   "metadata": {},
   "outputs": [
    {
     "data": {
      "text/plain": [
       "8"
      ]
     },
     "execution_count": 35,
     "metadata": {},
     "output_type": "execute_result"
    }
   ],
   "source": [
    "ident = 'for'\n",
    "statement.index(ident)"
   ]
  },
  {
   "cell_type": "code",
   "execution_count": 36,
   "metadata": {},
   "outputs": [
    {
     "data": {
      "text/plain": [
       "2"
      ]
     },
     "execution_count": 36,
     "metadata": {},
     "output_type": "execute_result"
    }
   ],
   "source": [
    "statement.index(' ')"
   ]
  },
  {
   "cell_type": "markdown",
   "metadata": {},
   "source": [
    "**2. Create two variables to store how many fruits and vegetables you eat in a day. Now Print \"I eat x vegetables and y fruits daily\" where x and y present vegetables and fruits that you eat every day. Use python f string for this**"
   ]
  },
  {
   "cell_type": "code",
   "execution_count": 37,
   "metadata": {},
   "outputs": [
    {
     "name": "stdout",
     "output_type": "stream",
     "text": [
      "I eat 3 fruits and 12 vegetables daily\n"
     ]
    }
   ],
   "source": [
    "fruits = 3 \n",
    "vegetables = 12 \n",
    "print(f\"I eat {fruits} fruits and {vegetables} vegetables daily\")"
   ]
  },
  {
   "cell_type": "markdown",
   "metadata": {},
   "source": [
    "**3. Create a variable and store the string “The Himalayas are one of the youngest mountain ranges on the planet.”**\n",
    "\n",
    "**Print ‘The Himalayas’ using slice operator**\n",
    "\n",
    "**Print “mountain range” using negative index**\n",
    "\n",
    "**Print “The Himalayas on the planet” using slice as well as f-string**"
   ]
  },
  {
   "cell_type": "code",
   "execution_count": 38,
   "metadata": {},
   "outputs": [
    {
     "name": "stdout",
     "output_type": "stream",
     "text": [
      "The Himalayas\n"
     ]
    }
   ],
   "source": [
    "string = \"The Himalayas are one of the youngest mountain ranges on the planet\"\n",
    "index_of_yas = string.index('yas')+3\n",
    "print(string[:index_of_yas])"
   ]
  },
  {
   "cell_type": "code",
   "execution_count": 39,
   "metadata": {},
   "outputs": [],
   "source": [
    "index_of_ranges_s = string.index('ranges')\n",
    "index_of_mountain_m = string.index('mountain')"
   ]
  },
  {
   "cell_type": "code",
   "execution_count": 40,
   "metadata": {},
   "outputs": [
    {
     "name": "stdout",
     "output_type": "stream",
     "text": [
      "0\n",
      "The Himalayason the planet\n"
     ]
    }
   ],
   "source": [
    "index_of_the = string.index('The')\n",
    "print(index_of_the)\n",
    "index_of_on = string.index(\"on \")\n",
    "print(string[index_of_the:index_of_yas]+string[index_of_on:len(string)])"
   ]
  },
  {
   "cell_type": "code",
   "execution_count": 41,
   "metadata": {},
   "outputs": [
    {
     "name": "stdout",
     "output_type": "stream",
     "text": [
      "The Himalayas on the planet\n"
     ]
    }
   ],
   "source": [
    "print(string[index_of_the:index_of_yas]+' '+string[index_of_on:len(string)])"
   ]
  },
  {
   "cell_type": "code",
   "execution_count": 42,
   "metadata": {},
   "outputs": [
    {
     "data": {
      "text/plain": [
       "'The Himalayas'"
      ]
     },
     "execution_count": 42,
     "metadata": {},
     "output_type": "execute_result"
    }
   ],
   "source": [
    "string[index_of_the:index_of_yas]"
   ]
  },
  {
   "cell_type": "markdown",
   "metadata": {},
   "source": [
    "**4. You have created a string variable called string= ”There are 9 planets in the solar system”. After some time, you have realized that your sentence is incorrect and there are only 8 planets, now correct your sentence by replacing the incorrect words. (Bonus: Try to do it in one line)**"
   ]
  },
  {
   "cell_type": "code",
   "execution_count": 43,
   "metadata": {},
   "outputs": [
    {
     "name": "stdout",
     "output_type": "stream",
     "text": [
      "There are 8 planets in the solar system\n"
     ]
    }
   ],
   "source": [
    "strings = \"There are 9 planets in the solar system\"\n",
    "strings = strings.replace(\"9\",'8')\n",
    "print(strings)"
   ]
  },
  {
   "cell_type": "markdown",
   "metadata": {},
   "source": [
    "# Lists [] "
   ]
  },
  {
   "cell_type": "code",
   "execution_count": 44,
   "metadata": {},
   "outputs": [],
   "source": [
    "avengers  = [\"Iron Man\", \"Captain America\", \"Black Widow\", \"Hulk\", \"Thor\", \"Hawkeye\"]"
   ]
  },
  {
   "cell_type": "markdown",
   "metadata": {},
   "source": [
    "**1. Calculate how many members are in the Avengers team?**"
   ]
  },
  {
   "cell_type": "code",
   "execution_count": 45,
   "metadata": {},
   "outputs": [
    {
     "name": "stdout",
     "output_type": "stream",
     "text": [
      "There are 6 members in the Avengers team\n"
     ]
    }
   ],
   "source": [
    "print(f'There are {len(avengers)} members in the Avengers team')"
   ]
  },
  {
   "cell_type": "markdown",
   "metadata": {},
   "source": [
    "**2.Iron Man made Spider-Man a new member of the Avengers, add him to your list**"
   ]
  },
  {
   "cell_type": "code",
   "execution_count": 46,
   "metadata": {},
   "outputs": [
    {
     "name": "stdout",
     "output_type": "stream",
     "text": [
      "Now, there are 7 members in Avengers team\n"
     ]
    }
   ],
   "source": [
    "avengers.append('Spider-Man')\n",
    "print(f\"Now, there are {len(avengers)} members in Avengers team\")"
   ]
  },
  {
   "cell_type": "markdown",
   "metadata": {},
   "source": [
    "**3. Captain America is the leader of the Avengers, you need to add him before Iron Man, so remove him from the list and add him before Iron Man.**"
   ]
  },
  {
   "cell_type": "code",
   "execution_count": 47,
   "metadata": {},
   "outputs": [
    {
     "name": "stdout",
     "output_type": "stream",
     "text": [
      "Now, there are 8 members in Avengers team\n"
     ]
    }
   ],
   "source": [
    "avengers.insert(0,'Captain America')\n",
    "print(f\"Now, there are {len(avengers)} members in Avengers team\")"
   ]
  },
  {
   "cell_type": "markdown",
   "metadata": {},
   "source": [
    "**4. You don’t like Thor and Hulk together because they get angry easily and fight with each other. So you have to separate them from each other. To separate them, either move “Black Widow” or “Hawkeye” in between them**"
   ]
  },
  {
   "cell_type": "code",
   "execution_count": 48,
   "metadata": {},
   "outputs": [],
   "source": [
    "thor_index = avengers.index('Thor')\n",
    "index_hawkeye = avengers.index('Hawkeye')\n",
    "avengers[thor_index],avengers[index_hawkeye] = avengers[index_hawkeye],avengers[thor_index]"
   ]
  },
  {
   "cell_type": "markdown",
   "metadata": {},
   "source": [
    "**5. After Avengers: End Game the original six avengers are retired, now you need to remove them from your list and add new superheroes like Doctor Strange, Vision, Wanda, Kate Bishop, and Ant-Man**\n",
    "\n"
   ]
  },
  {
   "cell_type": "code",
   "execution_count": 49,
   "metadata": {},
   "outputs": [
    {
     "name": "stdout",
     "output_type": "stream",
     "text": [
      "Sadly,All Avengers are removed!\n"
     ]
    }
   ],
   "source": [
    "for i in avengers:\n",
    "    avengers.remove(i)\n",
    "print(\"Sadly,All Avengers are removed!\")"
   ]
  },
  {
   "cell_type": "code",
   "execution_count": 50,
   "metadata": {},
   "outputs": [
    {
     "name": "stdout",
     "output_type": "stream",
     "text": [
      "Let us Welcome new Avengers!Holla!\n",
      "New Avengers are added\n"
     ]
    }
   ],
   "source": [
    "print(\"Let us Welcome new Avengers!Holla!\")\n",
    "new_avengers = ['Doctor Strange','Vision','Wanda','Kate Bishop','Ant-Man']\n",
    "for i in new_avengers:\n",
    "    avengers.append(i)\n",
    "print(\"New Avengers are added\")"
   ]
  },
  {
   "cell_type": "markdown",
   "metadata": {},
   "source": [
    "**6. As “Captain America” is also retired and now currently, no one is the leader, so sort the list in alphabetical order. Whoever will come at the 0th index will become the Leader. (BONUS: can you guess who will become the leader)**"
   ]
  },
  {
   "cell_type": "code",
   "execution_count": 51,
   "metadata": {},
   "outputs": [
    {
     "name": "stdout",
     "output_type": "stream",
     "text": [
      "Leader of the newest avengers team is Ant-Man\n"
     ]
    }
   ],
   "source": [
    "avengers.sort()\n",
    "print(f\"Leader of the newest avengers team is {avengers[0]}\")"
   ]
  },
  {
   "cell_type": "markdown",
   "metadata": {},
   "source": [
    "# If :"
   ]
  },
  {
   "cell_type": "markdown",
   "metadata": {},
   "source": [
    "**1. Write a program that can tell you your BMI Category.**\n",
    "\n",
    "**Ask user to enter height**\n",
    "\n",
    "**Ask user to enter weight**\n",
    "\n",
    "**Calculate the BMI(Body Mass Index = weight / height 2) and store it in a variable**\n",
    "\n",
    "**If the BMI is 30 or greater, print “Obesity”**\n",
    "\n",
    "**If the BMI is in between 25 and 29, print “Overweight”**\n",
    "\n",
    "**If the BMI is in between 18.5 and 25, print “Normal”**\n",
    "\n",
    "**If the BMI is less than 18.5, print “Underweight”**"
   ]
  },
  {
   "cell_type": "code",
   "execution_count": 53,
   "metadata": {},
   "outputs": [
    {
     "name": "stdout",
     "output_type": "stream",
     "text": [
      "Please Enter your height(m): 5.4\n",
      "Please Enter your weight(kg): 33\n"
     ]
    }
   ],
   "source": [
    "height = float(input(\"Please Enter your height(m): \"))\n",
    "weight = int(input(\"Please Enter your weight(kg): \"))"
   ]
  },
  {
   "cell_type": "code",
   "execution_count": 54,
   "metadata": {},
   "outputs": [
    {
     "name": "stdout",
     "output_type": "stream",
     "text": [
      "Your BMI is:  1.1316872427983538\n"
     ]
    }
   ],
   "source": [
    "BMI = weight/((height)**2)\n",
    "print('Your BMI is: ',BMI)"
   ]
  },
  {
   "cell_type": "code",
   "execution_count": 55,
   "metadata": {},
   "outputs": [
    {
     "name": "stdout",
     "output_type": "stream",
     "text": [
      "Underweight\n"
     ]
    }
   ],
   "source": [
    "if (BMI>30):\n",
    "    print(\"Obesity\")\n",
    "elif (25<BMI<=29):\n",
    "    print(\"Overweight\")\n",
    "elif (18.5<=BMI<29):\n",
    "    print(\"Normal\")\n",
    "else:\n",
    "    print(\"Underweight\")"
   ]
  },
  {
   "cell_type": "markdown",
   "metadata": {},
   "source": [
    "**Using the following list of cities per country,**\n",
    "\n",
    "**India = [\"Mumbai\", \"Bangalore\", \"Chennai\", \"Delhi\"]**\n",
    "\n",
    "**USA = [\"New York\",\"Chicago\",\"Las Vegas\", \"San Francisco\"]**\n",
    "\n",
    "**UK = [\"London\", \"Manchester\", \"Liverpool\", \"Nottingham\"]**\n",
    "\n",
    "**Write a program that asks the user to enter a city name, and it should tell which country the city belongs to**\n",
    "\n",
    "**Write a program that asks users to enter two cities, and it tells you if they both are in the same country or nor />**\n",
    "**For example:\n",
    "**If I enter Mumbai and Chennai, it will print \"Both cities are in India\" but if I enter Mumbai and New York it should print \"They don't belong to the same country\"**"
   ]
  },
  {
   "cell_type": "code",
   "execution_count": 56,
   "metadata": {},
   "outputs": [],
   "source": [
    "India = [\"Mumbai\", \"Bangalore\", \"Chennai\", \"Delhi\"]\n",
    "USA = [\"New York\",\"Chicago\",\"Las Vegas\", \"San Francisco\"]\n",
    "UK = [\"London\", \"Manchester\", \"Liverpool\", \"Nottingham\"]\n"
   ]
  },
  {
   "cell_type": "code",
   "execution_count": 57,
   "metadata": {},
   "outputs": [
    {
     "name": "stdout",
     "output_type": "stream",
     "text": [
      "Please enter your city: Chenna\n",
      "Please Enter correct city\n"
     ]
    }
   ],
   "source": [
    "city = input(\"Please enter your city: \")\n",
    "\n",
    "if city in India:\n",
    "    print(\"You Live in India\")\n",
    "elif city in USA:\n",
    "    print(\"You Live in USA\")\n",
    "elif city in UK:\n",
    "    print(\"You Live in UK\")\n",
    "elif city not in  (India,USA,UK):\n",
    "    print(\"Please Enter correct city\")"
   ]
  },
  {
   "cell_type": "code",
   "execution_count": 58,
   "metadata": {},
   "outputs": [
    {
     "name": "stdout",
     "output_type": "stream",
     "text": [
      "Chennai, Delhi\n",
      "They dont belong to same country\n"
     ]
    }
   ],
   "source": [
    "city1,city2 = list(map(str,input().split()))\n",
    "\n",
    "if city1 in India and city2 in India:\n",
    "    print(\"Both cities are in India\")\n",
    "elif (city1 in USA and city2 in USA):\n",
    "    print(\"Both cities are in USA\")\n",
    "elif (city1 in UK and city2 in UK):\n",
    "    print(\"Both cities are in UK\")\n",
    "else:\n",
    "    print(\"They dont belong to same country\")"
   ]
  },
  {
   "cell_type": "code",
   "execution_count": 59,
   "metadata": {},
   "outputs": [
    {
     "data": {
      "application/javascript": [
       "window.require && require([\"base/js/namespace\"],function(Jupyter){Jupyter.notebook.save_checkpoint()})"
      ],
      "text/plain": [
       "<IPython.core.display.Javascript object>"
      ]
     },
     "metadata": {},
     "output_type": "display_data"
    },
    {
     "name": "stdout",
     "output_type": "stream",
     "text": [
      "[jovian] Updating notebook \"kishkath/python-basics\" on https://jovian.ai\u001b[0m\n",
      "[jovian] Committed successfully! https://jovian.ai/kishkath/python-basics\u001b[0m\n"
     ]
    },
    {
     "data": {
      "text/plain": [
       "'https://jovian.ai/kishkath/python-basics'"
      ]
     },
     "execution_count": 59,
     "metadata": {},
     "output_type": "execute_result"
    }
   ],
   "source": [
    "jovian.commit(\"python-basics\")"
   ]
  },
  {
   "cell_type": "markdown",
   "metadata": {},
   "source": [
    "# For (,,):"
   ]
  },
  {
   "cell_type": "markdown",
   "metadata": {},
   "source": [
    "**Write a Python program to print the following pattern**\n",
    "\n",
    "**1 2 3 4 5**\n",
    "\n",
    "**1 2 3 4** \n",
    "\n",
    "**1 2 3**\n",
    "\n",
    "**1 2**\n",
    "\n",
    "**1**"
   ]
  },
  {
   "cell_type": "code",
   "execution_count": 61,
   "metadata": {},
   "outputs": [
    {
     "name": "stdout",
     "output_type": "stream",
     "text": [
      "1 2 3 4 5 \n",
      "1 2 3 4 \n",
      "1 2 3 \n",
      "1 2 \n",
      "1 \n"
     ]
    }
   ],
   "source": [
    "n = 5\n",
    "for i in range(1,n+1):\n",
    "    for j in range(1,n+1):\n",
    "        if (i+j)<=n+1:\n",
    "            print(j,end=' ')\n",
    "    print()"
   ]
  },
  {
   "cell_type": "markdown",
   "metadata": {},
   "source": [
    "**Write a Python program to find the sum of all the numbers except odd numbers between 1 and 20 using a loop. Can you also do this using a while loop?**"
   ]
  },
  {
   "cell_type": "code",
   "execution_count": 62,
   "metadata": {},
   "outputs": [
    {
     "name": "stdout",
     "output_type": "stream",
     "text": [
      "110\n"
     ]
    }
   ],
   "source": [
    "number = 0\n",
    "res = 0\n",
    "while (number<21):\n",
    "    if (number%2==0):\n",
    "        res+=number\n",
    "    number+=2 \n",
    "print(res)"
   ]
  },
  {
   "cell_type": "markdown",
   "metadata": {},
   "source": [
    "**After throwing the dice several times, you got this result,**\n",
    "\n",
    "**dice_result  = [5,6,4,2,5,4,4,5,3,3,2,6,1,2,1,1,6,5]**\n",
    "\n",
    "\n",
    "**Using a for loop find out the followings:**\n",
    "\n",
    "**How many times have you got 6s**\n",
    "\n",
    "**How many times have you got 1s**\n",
    "\n",
    "**How many times have you got 6s two times in a rowAfter throwing the dice several times, you got this result,**\n",
    "\n",
    "**dice_result  = [5,6,4,2,5,4,4,5,3,3,2,6,1,2,1,1,6,5]**\n",
    "\n",
    "**Using a for loop find out the followings:**\n",
    "\n",
    "**How many times have you got 6s**\n",
    "\n",
    "**How many times have you got 1s**\n",
    "\n",
    "**How many times have you got 6s two times in a row**"
   ]
  },
  {
   "cell_type": "code",
   "execution_count": 63,
   "metadata": {},
   "outputs": [
    {
     "name": "stdout",
     "output_type": "stream",
     "text": [
      "We got 3 6s\n",
      "We got 3 1s\n",
      "We got 0 6s twice at a time.\n"
     ]
    }
   ],
   "source": [
    "dice_result = [5,6,4,2,5,4,4,5,3,3,2,6,1,2,1,1,6,5]\n",
    "\n",
    "sixes = 0 \n",
    "ones = 0 \n",
    "two_sixes = 0\n",
    "for i in range(len(dice_result)):\n",
    "    if dice_result[i]==6:\n",
    "        sixes+=1 \n",
    "    elif dice_result[i]==1:\n",
    "        ones+=1\n",
    "    if (dice_result[i]==6 and dice_result[i+1]==6):\n",
    "        two_sixes+=1 \n",
    "print(f\"We got {sixes} 6s\")\n",
    "print(f\"We got {ones} 1s\")\n",
    "print(f\"We got {two_sixes} 6s twice at a time.\")"
   ]
  },
  {
   "cell_type": "markdown",
   "metadata": {},
   "source": [
    "**Let's say you are doing push-ups and you have to complete 50 push-ups daily, write a program that,**\n",
    "\n",
    "**Upon completing 10 push-ups in a go, asks you, “Are you tired?”**\n",
    "\n",
    "**If you reply “yes” or “y” then it should break and print “You did total push-ups.”**\n",
    "\n",
    "**For example: If you did only 30  push-ups and answered “yes” to your program. It will break the loop and print “You did a total of 30 push-ups”**\n",
    "\n",
    "**If you reply “no” or “n” then it should continue and display how many push-ups are remaining  now after that ask you again “Are you tired?”**\n",
    "\n",
    "**For Example: if you answered “no” then it should display that 20 push-ups are remaining and ask you again “Are you tired?”**\n",
    "\n",
    "**If you complete all 50 push-ups, then it should print the “Congratulations! You made it” and stopped the program.**"
   ]
  },
  {
   "cell_type": "code",
   "execution_count": 64,
   "metadata": {},
   "outputs": [
    {
     "name": "stdout",
     "output_type": "stream",
     "text": [
      "Doing Pushups!\n",
      "Doing Pushups!\n",
      "Doing Pushups!\n",
      "Doing Pushups!\n",
      "Doing Pushups!\n",
      "Doing Pushups!\n",
      "Doing Pushups!\n",
      "Doing Pushups!\n",
      "Doing Pushups!\n",
      "Doing Pushups!\n",
      "Are you tired?\n",
      "Enter [yes or y] or [no of n]: n\n",
      "Good, Go ahead and do it! You are only still left with 40 push-ups :)\n",
      "Doing Pushups!\n",
      "Doing Pushups!\n",
      "Doing Pushups!\n",
      "Doing Pushups!\n",
      "Doing Pushups!\n",
      "Doing Pushups!\n",
      "Doing Pushups!\n",
      "Doing Pushups!\n",
      "Doing Pushups!\n",
      "Doing Pushups!\n",
      "Are you tired?\n",
      "Enter [yes or y] or [no of n]: y\n",
      "Great! You did a total of 20 push-ups\n"
     ]
    }
   ],
   "source": [
    "pushups = 0\n",
    "while True:\n",
    "    pushups+=1\n",
    "    print(\"Doing Pushups!\")\n",
    "\n",
    "        \n",
    "    if (pushups%10==0):\n",
    "        print(\"Are you tired?\")\n",
    "        status = input(\"Enter [yes or y] or [no of n]: \")\n",
    "\n",
    "        if (status=='yes' or status=='y'):\n",
    "            print(f\"Great! You did a total of {pushups} push-ups\")\n",
    "            break\n",
    "        if (status=='no' or status=='n'):\n",
    "            print(f\"Good, Go ahead and do it! You are only still left with {50-pushups} push-ups :)\")\n",
    "    if (pushups==50):\n",
    "        print(\"Congratulations!  You have Made it :)\")\n",
    "        break"
   ]
  },
  {
   "cell_type": "markdown",
   "metadata": {},
   "source": [
    "# Functions def func(): return ;"
   ]
  },
  {
   "cell_type": "markdown",
   "metadata": {},
   "source": [
    "**1. Write a python function to check if any given number is a prime number and odd number?**"
   ]
  },
  {
   "cell_type": "code",
   "execution_count": 65,
   "metadata": {},
   "outputs": [
    {
     "name": "stdout",
     "output_type": "stream",
     "text": [
      "True\n"
     ]
    }
   ],
   "source": [
    "def checkPrimeAndOdd(number):\n",
    "    if (number%2==0):\n",
    "        return False\n",
    "    if (number%2!=0):\n",
    "        for i in range(3,number//2):\n",
    "            if (number%i==0):\n",
    "                return False \n",
    "        return True \n",
    "print(checkPrimeAndOdd(11))"
   ]
  },
  {
   "cell_type": "code",
   "execution_count": 66,
   "metadata": {},
   "outputs": [
    {
     "name": "stdout",
     "output_type": "stream",
     "text": [
      "3 5 7 11 13 17 19 23 29 31 37 41 43 47 53 59 61 67 71 73 79 83 89 97 "
     ]
    }
   ],
   "source": [
    "lst = [print(i,end=' ') for i in range(3,100) if checkPrimeAndOdd(i)==True]"
   ]
  },
  {
   "cell_type": "markdown",
   "metadata": {},
   "source": [
    "**2. Master Yoda speaks a sentence in a different order. Let's say you want to convert a sentence to Yoda’s speech.  Write a function named master_yoda which will take a string as input and return the output after reversing the words of the sentence.**"
   ]
  },
  {
   "cell_type": "code",
   "execution_count": 67,
   "metadata": {},
   "outputs": [
    {
     "name": "stdout",
     "output_type": "stream",
     "text": [
      "Master yoda said:  win! can he that him explain please\n"
     ]
    }
   ],
   "source": [
    "def master_yoda(string):\n",
    "    return string.split()[::-1]\n",
    "string = \"please explain him that he can win!\"\n",
    "print(\"Master yoda said: \",\" \".join(map(str,master_yoda(string))))"
   ]
  },
  {
   "cell_type": "markdown",
   "metadata": {},
   "source": [
    "**Write a function pay_bill which will take a list of expenses, percent commission, and a special offer amount**\n",
    "\n",
    "**If you don’t pass percent_comission it should be always 9.8%**\n",
    "\n",
    "**The Last argument special_offer_amount is not a required argument, you don’t need to pass it. Make it an optional parameter.**\n",
    "\n",
    "**If you want to give a special offer to the user, then you have to pass the third argument special_offer_amount. If the user makes the purchase greater than special_offer_amount, then give him an extra commission of 1.2%.**\n",
    "\n",
    "**Calculate the final payable price of the bill and return it from the function.**\n"
   ]
  },
  {
   "cell_type": "code",
   "execution_count": 68,
   "metadata": {},
   "outputs": [
    {
     "name": "stdout",
     "output_type": "stream",
     "text": [
      "Final Payable price is 8157.6\n"
     ]
    }
   ],
   "source": [
    "def pay_bill(expenses,commission=0.098,offer=None):\n",
    "    \n",
    "    if (commission==None):\n",
    "        commission=0.098\n",
    "   \n",
    "    payable_bill = 0\n",
    "    for i in expenses:\n",
    "        payable_bill+=i \n",
    "    \n",
    "    if (offer!=None):\n",
    "        if (payable_bill>=offer):\n",
    "            extra_commission = commission+0.012\n",
    "            \n",
    "    commission_amount = payable_bill*(commission+extra_commission)\n",
    "    return f\"Final Payable price is {payable_bill-commission_amount}\"\n",
    "    \n",
    "expenses = [2400,3400,4500]\n",
    "print(pay_bill(expenses,None,900))\n",
    "        \n",
    "    "
   ]
  },
  {
   "cell_type": "markdown",
   "metadata": {},
   "source": [
    "**Write a python function that will take n as input and print the pattern of n rows. If the n is even, then print it flipped.**\n"
   ]
  },
  {
   "cell_type": "code",
   "execution_count": 69,
   "metadata": {},
   "outputs": [],
   "source": [
    "\n",
    "n=3\n",
    "\n",
    "\n",
    "#*\n",
    "\n",
    "#* *\n",
    "\n",
    "#* * *\n",
    "\n",
    "\n",
    "n=4\n",
    "\n",
    "#* * * *\n",
    "\n",
    "#* * *\n",
    "\n",
    "#* *\n",
    "\n",
    "#*\n"
   ]
  },
  {
   "cell_type": "code",
   "execution_count": 70,
   "metadata": {},
   "outputs": [
    {
     "name": "stdout",
     "output_type": "stream",
     "text": [
      "* * * * * * \n",
      "* * * * * \n",
      "* * * * \n",
      "* * * \n",
      "* * \n",
      "* \n",
      "None\n"
     ]
    }
   ],
   "source": [
    "\n",
    "def printPattern(n):\n",
    "    if (n%2==0):\n",
    "        for i in range(1,n+1):\n",
    "            for j in range(1,n+1):\n",
    "                if (i+j)<=(n+1):\n",
    "                    print('*',end=' ')\n",
    "            print()\n",
    "        return ;\n",
    "    else:\n",
    "        for i in range(1,n+1):\n",
    "            for j in range(1,i+1):\n",
    "                print('*',end=' ')\n",
    "            print()\n",
    "        return ;\n",
    "            \n",
    "print(printPattern(6))"
   ]
  },
  {
   "cell_type": "markdown",
   "metadata": {},
   "source": [
    "# Dictionary and Tuples {} n ()"
   ]
  },
  {
   "cell_type": "markdown",
   "metadata": {},
   "source": [
    "**Create a list of your friends' names and now create a list of tuples. The tuple should contain the friend’s name and the length of the name. For Example: if someone’s name is Aditya, the tuple would be: (‘Aditya’, 6)**"
   ]
  },
  {
   "cell_type": "code",
   "execution_count": 71,
   "metadata": {},
   "outputs": [
    {
     "name": "stdout",
     "output_type": "stream",
     "text": [
      "Friend Name: A and length of name is: 1\n",
      "Friend Name: B and length of name is: 2\n",
      "Friend Name: CDE and length of name is: 3\n"
     ]
    }
   ],
   "source": [
    "friends = [('A',1),('B',2),('CDE',3)]\n",
    "for friend in friends:\n",
    "    print(f'Friend Name: {friend[0]} and length of name is: {friend[1]}')\n",
    "    "
   ]
  },
  {
   "cell_type": "markdown",
   "metadata": {},
   "source": [
    "**You and your wife argued about expenses last night. You both want to know who is spending more in a month. Now you both go to the Little Yoda he is a good python programmer. He suggested that both of you add an entry in a dictionary next time you spend money. So that you can have a clear picture of your expenses and plan to reduce them. Both dictionaries are as below-**\n",
    "\n",
    "**Your expenses -**"
   ]
  },
  {
   "cell_type": "code",
   "execution_count": 72,
   "metadata": {},
   "outputs": [],
   "source": [
    "\n",
    "# Clothes - 1100\n",
    "\n",
    "# Shoes - 1000\n",
    "\n",
    "# Watch - 900\n",
    "\n",
    "# Mobile Recharge - 699\n",
    "\n",
    "# Petrol - 1980\n",
    "\n",
    "# Your Wife’s expenses - \n",
    "\n",
    "# Mobile Recharge - 799\n",
    "\n",
    "# DTH recharge - 999\n",
    "\n",
    "# Clothes - 2310\n",
    "\n",
    "# Makeup - 3670\n",
    "\n",
    "# Shoes - 999\n"
   ]
  },
  {
   "cell_type": "markdown",
   "metadata": {},
   "source": [
    "**Find out the total expenses for each of you.**\n",
    "\n",
    "**Find out who spending more**\n",
    "\n",
    "**Find out which thing you and your wife spending more**"
   ]
  },
  {
   "cell_type": "code",
   "execution_count": 73,
   "metadata": {},
   "outputs": [],
   "source": [
    "self_expense = {'Clothes':1100,'Shoes':1000,'Watch':900,'MobileRecharge':699,'Petrol':1980}\n",
    "wife_expense = {'MobileRecharge':799,'DTHRecharge':999,'Clothes':2310,'Makeup':3670,'Shoes':999}"
   ]
  },
  {
   "cell_type": "code",
   "execution_count": 74,
   "metadata": {},
   "outputs": [],
   "source": [
    "self_cost = 0\n",
    "wife_cost = 0\n",
    "self_higher_cost = -1\n",
    "self_higher_costitem = \"\"\n",
    "wife_higher_cost = -1\n",
    "wife_higher_costitem = \"\"\n",
    "\n",
    "for item,expense in self_expense.items():\n",
    "    if expense>self_higher_cost:\n",
    "        self_higher_cost = expense\n",
    "        self_higher_costitem = item\n",
    "    self_cost += self_expense[item]\n",
    "    \n",
    "for item,expense in wife_expense.items():\n",
    "    if expense>wife_higher_cost:\n",
    "        wife_higher_cost = expense\n",
    "        wife_higher_costitem = item\n",
    "    wife_cost += wife_expense[item]"
   ]
  },
  {
   "cell_type": "code",
   "execution_count": 76,
   "metadata": {},
   "outputs": [
    {
     "name": "stdout",
     "output_type": "stream",
     "text": [
      "Collecting simple-colors\n",
      "  Downloading simple_colors-0.1.5-py3-none-any.whl (2.8 kB)\n",
      "Installing collected packages: simple-colors\n",
      "Successfully installed simple-colors-0.1.5\n"
     ]
    }
   ],
   "source": [
    "!pip install simple-colors"
   ]
  },
  {
   "cell_type": "code",
   "execution_count": 77,
   "metadata": {},
   "outputs": [
    {
     "name": "stdout",
     "output_type": "stream",
     "text": [
      "\u001b[1;34mComparing Expenses: \u001b[0m\n",
      "My wife is spending more than me!\n",
      "\n",
      "\n",
      "\u001b[1;34mIndividual Expenses and most spent: \u001b[0m\n",
      "\u001b[1;33mMine: \u001b[0m\n",
      "My total expenses are: 5679 rs.\n",
      "I spend mostly on Petrol\n",
      "\n",
      "\n",
      "\u001b[3;33mWife: \u001b[0m\n",
      "My Wife expenses are: 8777 rs. \n",
      "My Wife spends mostly on Makeup\n"
     ]
    }
   ],
   "source": [
    "from simple_colors import *\n",
    "print(blue('Comparing Expenses: ','bold'))\n",
    "\n",
    "if (self_cost>wife_cost):\n",
    "    print('I am spending more than my wife')\n",
    "else:\n",
    "    print('My wife is spending more than me!')\n",
    "print(\"\\n\")\n",
    "print(blue('Individual Expenses and most spent: ','bold'))\n",
    "\n",
    "print(yellow('Mine: ','bold'))\n",
    "print('My total expenses are: '+str(self_cost)+' rs.')\n",
    "print(f'I spend mostly on {self_higher_costitem}')\n",
    "print(\"\\n\")\n",
    "print(yellow('Wife: ','italic'))\n",
    "print('My Wife expenses are: '+str(wife_cost)+' rs. ')\n",
    "print(f'My Wife spends mostly on {wife_higher_costitem}')"
   ]
  },
  {
   "cell_type": "markdown",
   "metadata": {},
   "source": [
    "# File Handling ('r','w'):"
   ]
  },
  {
   "cell_type": "markdown",
   "metadata": {},
   "source": [
    "\n",
    "**1. student_marks.csv contains the marks and other details for some students. Write a python program to:**\n",
    "\n",
    "**Open the file in read mode**\n",
    "\n",
    "**Create a dictionary from the given data**\n",
    "\n",
    "**Add a new field to the dictionary `total_marks` and store the total marks of the students.**\n",
    "\n",
    "**Add a new field to the dictionary `Average` and store the average marks of the students**\n",
    "\n",
    "**Sort the data according to the average marks of the students**\n",
    "\n",
    "**Create a new file and write this information to the new file**\n",
    "\n",
    "**(https://www.kaggle.com/arunkumar413/student-marks)**"
   ]
  },
  {
   "cell_type": "code",
   "execution_count": 78,
   "metadata": {},
   "outputs": [],
   "source": [
    "import os \n",
    "from os import listdir"
   ]
  },
  {
   "cell_type": "code",
   "execution_count": 79,
   "metadata": {},
   "outputs": [],
   "source": [
    "!pip install jovian opendatasets --upgrade --quiet"
   ]
  },
  {
   "cell_type": "code",
   "execution_count": 80,
   "metadata": {},
   "outputs": [
    {
     "name": "stdout",
     "output_type": "stream",
     "text": [
      "Please provide your Kaggle credentials to download this dataset. Learn more: http://bit.ly/kaggle-creds\n",
      "Your Kaggle username: imnskc\n",
      "Your Kaggle Key:\n"
     ]
    },
    {
     "ename": "Abort",
     "evalue": "",
     "output_type": "error",
     "traceback": [
      "\u001b[0;31m---------------------------------------------------------------------------\u001b[0m",
      "\u001b[0;31mKeyboardInterrupt\u001b[0m                         Traceback (most recent call last)",
      "\u001b[0;32m/opt/conda/lib/python3.9/site-packages/click/termui.py\u001b[0m in \u001b[0;36mprompt_func\u001b[0;34m(text)\u001b[0m\n\u001b[1;32m    142\u001b[0m             \u001b[0;31m# readline causes backspace to clear the whole line.\u001b[0m\u001b[0;34m\u001b[0m\u001b[0;34m\u001b[0m\u001b[0;34m\u001b[0m\u001b[0m\n\u001b[0;32m--> 143\u001b[0;31m             \u001b[0;32mreturn\u001b[0m \u001b[0mf\u001b[0m\u001b[0;34m(\u001b[0m\u001b[0;34m\" \"\u001b[0m\u001b[0;34m)\u001b[0m\u001b[0;34m\u001b[0m\u001b[0;34m\u001b[0m\u001b[0m\n\u001b[0m\u001b[1;32m    144\u001b[0m         \u001b[0;32mexcept\u001b[0m \u001b[0;34m(\u001b[0m\u001b[0mKeyboardInterrupt\u001b[0m\u001b[0;34m,\u001b[0m \u001b[0mEOFError\u001b[0m\u001b[0;34m)\u001b[0m\u001b[0;34m:\u001b[0m\u001b[0;34m\u001b[0m\u001b[0;34m\u001b[0m\u001b[0m\n",
      "\u001b[0;32m/opt/conda/lib/python3.9/site-packages/click/termui.py\u001b[0m in \u001b[0;36mhidden_prompt_func\u001b[0;34m(prompt)\u001b[0m\n\u001b[1;32m     55\u001b[0m \u001b[0;34m\u001b[0m\u001b[0m\n\u001b[0;32m---> 56\u001b[0;31m     \u001b[0;32mreturn\u001b[0m \u001b[0mgetpass\u001b[0m\u001b[0;34m.\u001b[0m\u001b[0mgetpass\u001b[0m\u001b[0;34m(\u001b[0m\u001b[0mprompt\u001b[0m\u001b[0;34m)\u001b[0m\u001b[0;34m\u001b[0m\u001b[0;34m\u001b[0m\u001b[0m\n\u001b[0m\u001b[1;32m     57\u001b[0m \u001b[0;34m\u001b[0m\u001b[0m\n",
      "\u001b[0;32m/opt/conda/lib/python3.9/site-packages/ipykernel/kernelbase.py\u001b[0m in \u001b[0;36mgetpass\u001b[0;34m(self, prompt, stream)\u001b[0m\n\u001b[1;32m    987\u001b[0m             )\n\u001b[0;32m--> 988\u001b[0;31m         return self._input_request(\n\u001b[0m\u001b[1;32m    989\u001b[0m             \u001b[0mprompt\u001b[0m\u001b[0;34m,\u001b[0m\u001b[0;34m\u001b[0m\u001b[0;34m\u001b[0m\u001b[0m\n",
      "\u001b[0;32m/opt/conda/lib/python3.9/site-packages/ipykernel/kernelbase.py\u001b[0m in \u001b[0;36m_input_request\u001b[0;34m(self, prompt, ident, parent, password)\u001b[0m\n\u001b[1;32m   1050\u001b[0m                 \u001b[0;31m# re-raise KeyboardInterrupt, to truncate traceback\u001b[0m\u001b[0;34m\u001b[0m\u001b[0;34m\u001b[0m\u001b[0;34m\u001b[0m\u001b[0m\n\u001b[0;32m-> 1051\u001b[0;31m                 \u001b[0;32mraise\u001b[0m \u001b[0mKeyboardInterrupt\u001b[0m\u001b[0;34m(\u001b[0m\u001b[0;34m\"Interrupted by user\"\u001b[0m\u001b[0;34m)\u001b[0m \u001b[0;32mfrom\u001b[0m \u001b[0;32mNone\u001b[0m\u001b[0;34m\u001b[0m\u001b[0;34m\u001b[0m\u001b[0m\n\u001b[0m\u001b[1;32m   1052\u001b[0m             \u001b[0;32mexcept\u001b[0m \u001b[0mException\u001b[0m\u001b[0;34m:\u001b[0m\u001b[0;34m\u001b[0m\u001b[0;34m\u001b[0m\u001b[0m\n",
      "\u001b[0;31mKeyboardInterrupt\u001b[0m: Interrupted by user",
      "\nDuring handling of the above exception, another exception occurred:\n",
      "\u001b[0;31mAbort\u001b[0m                                     Traceback (most recent call last)",
      "\u001b[0;32m/tmp/ipykernel_41/2570967093.py\u001b[0m in \u001b[0;36m<module>\u001b[0;34m\u001b[0m\n\u001b[1;32m      2\u001b[0m \u001b[0;34m\u001b[0m\u001b[0m\n\u001b[1;32m      3\u001b[0m \u001b[0mdataset_url\u001b[0m \u001b[0;34m=\u001b[0m \u001b[0;34m\"https://www.kaggle.com/datasets/arunkumar413/student-marks\"\u001b[0m\u001b[0;34m\u001b[0m\u001b[0;34m\u001b[0m\u001b[0m\n\u001b[0;32m----> 4\u001b[0;31m \u001b[0mod\u001b[0m\u001b[0;34m.\u001b[0m\u001b[0mdownload\u001b[0m\u001b[0;34m(\u001b[0m\u001b[0mdataset_url\u001b[0m\u001b[0;34m)\u001b[0m\u001b[0;34m\u001b[0m\u001b[0;34m\u001b[0m\u001b[0m\n\u001b[0m\u001b[1;32m      5\u001b[0m \u001b[0;31m#data.head()\u001b[0m\u001b[0;34m\u001b[0m\u001b[0;34m\u001b[0m\u001b[0;34m\u001b[0m\u001b[0m\n",
      "\u001b[0;32m/opt/conda/lib/python3.9/site-packages/opendatasets/__init__.py\u001b[0m in \u001b[0;36mdownload\u001b[0;34m(dataset_id_or_url, data_dir, force, dry_run, **kwargs)\u001b[0m\n\u001b[1;32m     11\u001b[0m     \u001b[0;31m# Check for a Kaggle dataset URL\u001b[0m\u001b[0;34m\u001b[0m\u001b[0;34m\u001b[0m\u001b[0;34m\u001b[0m\u001b[0m\n\u001b[1;32m     12\u001b[0m     \u001b[0;32mif\u001b[0m \u001b[0mis_kaggle_url\u001b[0m\u001b[0;34m(\u001b[0m\u001b[0mdataset_id_or_url\u001b[0m\u001b[0;34m)\u001b[0m\u001b[0;34m:\u001b[0m\u001b[0;34m\u001b[0m\u001b[0;34m\u001b[0m\u001b[0m\n\u001b[0;32m---> 13\u001b[0;31m         \u001b[0;32mreturn\u001b[0m \u001b[0mdownload_kaggle_dataset\u001b[0m\u001b[0;34m(\u001b[0m\u001b[0mdataset_id_or_url\u001b[0m\u001b[0;34m,\u001b[0m \u001b[0mdata_dir\u001b[0m\u001b[0;34m=\u001b[0m\u001b[0mdata_dir\u001b[0m\u001b[0;34m,\u001b[0m \u001b[0mforce\u001b[0m\u001b[0;34m=\u001b[0m\u001b[0mforce\u001b[0m\u001b[0;34m,\u001b[0m \u001b[0mdry_run\u001b[0m\u001b[0;34m=\u001b[0m\u001b[0mdry_run\u001b[0m\u001b[0;34m)\u001b[0m\u001b[0;34m\u001b[0m\u001b[0;34m\u001b[0m\u001b[0m\n\u001b[0m\u001b[1;32m     14\u001b[0m \u001b[0;34m\u001b[0m\u001b[0m\n\u001b[1;32m     15\u001b[0m     \u001b[0;31m# Check for Google Drive URL\u001b[0m\u001b[0;34m\u001b[0m\u001b[0;34m\u001b[0m\u001b[0;34m\u001b[0m\u001b[0m\n",
      "\u001b[0;32m/opt/conda/lib/python3.9/site-packages/opendatasets/utils/kaggle_api.py\u001b[0m in \u001b[0;36mdownload_kaggle_dataset\u001b[0;34m(dataset_url, data_dir, force, dry_run)\u001b[0m\n\u001b[1;32m     45\u001b[0m         \u001b[0mprint\u001b[0m\u001b[0;34m(\u001b[0m\u001b[0;34m\"Please provide your Kaggle credentials to download this dataset. Learn more: http://bit.ly/kaggle-creds\"\u001b[0m\u001b[0;34m)\u001b[0m\u001b[0;34m\u001b[0m\u001b[0;34m\u001b[0m\u001b[0m\n\u001b[1;32m     46\u001b[0m         \u001b[0mos\u001b[0m\u001b[0;34m.\u001b[0m\u001b[0menviron\u001b[0m\u001b[0;34m[\u001b[0m\u001b[0;34m'KAGGLE_USERNAME'\u001b[0m\u001b[0;34m]\u001b[0m \u001b[0;34m=\u001b[0m \u001b[0mclick\u001b[0m\u001b[0;34m.\u001b[0m\u001b[0mprompt\u001b[0m\u001b[0;34m(\u001b[0m\u001b[0;34m\"Your Kaggle username\"\u001b[0m\u001b[0;34m)\u001b[0m\u001b[0;34m\u001b[0m\u001b[0;34m\u001b[0m\u001b[0m\n\u001b[0;32m---> 47\u001b[0;31m         \u001b[0mos\u001b[0m\u001b[0;34m.\u001b[0m\u001b[0menviron\u001b[0m\u001b[0;34m[\u001b[0m\u001b[0;34m'KAGGLE_KEY'\u001b[0m\u001b[0;34m]\u001b[0m \u001b[0;34m=\u001b[0m \u001b[0m_get_kaggle_key\u001b[0m\u001b[0;34m(\u001b[0m\u001b[0;34m)\u001b[0m\u001b[0;34m\u001b[0m\u001b[0;34m\u001b[0m\u001b[0m\n\u001b[0m\u001b[1;32m     48\u001b[0m \u001b[0;34m\u001b[0m\u001b[0m\n\u001b[1;32m     49\u001b[0m     \u001b[0;32mif\u001b[0m \u001b[0;32mnot\u001b[0m \u001b[0mdry_run\u001b[0m\u001b[0;34m:\u001b[0m\u001b[0;34m\u001b[0m\u001b[0;34m\u001b[0m\u001b[0m\n",
      "\u001b[0;32m/opt/conda/lib/python3.9/site-packages/opendatasets/utils/kaggle_api.py\u001b[0m in \u001b[0;36m_get_kaggle_key\u001b[0;34m()\u001b[0m\n\u001b[1;32m      7\u001b[0m \u001b[0;34m\u001b[0m\u001b[0m\n\u001b[1;32m      8\u001b[0m \u001b[0;32mdef\u001b[0m \u001b[0m_get_kaggle_key\u001b[0m\u001b[0;34m(\u001b[0m\u001b[0;34m)\u001b[0m\u001b[0;34m:\u001b[0m\u001b[0;34m\u001b[0m\u001b[0;34m\u001b[0m\u001b[0m\n\u001b[0;32m----> 9\u001b[0;31m     \u001b[0muser_input\u001b[0m \u001b[0;34m=\u001b[0m \u001b[0mclick\u001b[0m\u001b[0;34m.\u001b[0m\u001b[0mprompt\u001b[0m\u001b[0;34m(\u001b[0m\u001b[0;34m\"Your Kaggle Key\"\u001b[0m\u001b[0;34m,\u001b[0m \u001b[0mhide_input\u001b[0m\u001b[0;34m=\u001b[0m\u001b[0;32mTrue\u001b[0m\u001b[0;34m)\u001b[0m\u001b[0;34m\u001b[0m\u001b[0;34m\u001b[0m\u001b[0m\n\u001b[0m\u001b[1;32m     10\u001b[0m     \u001b[0;32mif\u001b[0m \u001b[0muser_input\u001b[0m\u001b[0;34m.\u001b[0m\u001b[0mstartswith\u001b[0m\u001b[0;34m(\u001b[0m\u001b[0;34m'{'\u001b[0m\u001b[0;34m)\u001b[0m\u001b[0;34m:\u001b[0m\u001b[0;34m\u001b[0m\u001b[0;34m\u001b[0m\u001b[0m\n\u001b[1;32m     11\u001b[0m         \u001b[0;32mtry\u001b[0m\u001b[0;34m:\u001b[0m\u001b[0;34m\u001b[0m\u001b[0;34m\u001b[0m\u001b[0m\n",
      "\u001b[0;32m/opt/conda/lib/python3.9/site-packages/click/termui.py\u001b[0m in \u001b[0;36mprompt\u001b[0;34m(text, default, hide_input, confirmation_prompt, type, value_proc, prompt_suffix, show_default, err, show_choices)\u001b[0m\n\u001b[1;32m    166\u001b[0m     \u001b[0;32mwhile\u001b[0m \u001b[0;32mTrue\u001b[0m\u001b[0;34m:\u001b[0m\u001b[0;34m\u001b[0m\u001b[0;34m\u001b[0m\u001b[0m\n\u001b[1;32m    167\u001b[0m         \u001b[0;32mwhile\u001b[0m \u001b[0;32mTrue\u001b[0m\u001b[0;34m:\u001b[0m\u001b[0;34m\u001b[0m\u001b[0;34m\u001b[0m\u001b[0m\n\u001b[0;32m--> 168\u001b[0;31m             \u001b[0mvalue\u001b[0m \u001b[0;34m=\u001b[0m \u001b[0mprompt_func\u001b[0m\u001b[0;34m(\u001b[0m\u001b[0mprompt\u001b[0m\u001b[0;34m)\u001b[0m\u001b[0;34m\u001b[0m\u001b[0;34m\u001b[0m\u001b[0m\n\u001b[0m\u001b[1;32m    169\u001b[0m             \u001b[0;32mif\u001b[0m \u001b[0mvalue\u001b[0m\u001b[0;34m:\u001b[0m\u001b[0;34m\u001b[0m\u001b[0;34m\u001b[0m\u001b[0m\n\u001b[1;32m    170\u001b[0m                 \u001b[0;32mbreak\u001b[0m\u001b[0;34m\u001b[0m\u001b[0;34m\u001b[0m\u001b[0m\n",
      "\u001b[0;32m/opt/conda/lib/python3.9/site-packages/click/termui.py\u001b[0m in \u001b[0;36mprompt_func\u001b[0;34m(text)\u001b[0m\n\u001b[1;32m    148\u001b[0m             \u001b[0;32mif\u001b[0m \u001b[0mhide_input\u001b[0m\u001b[0;34m:\u001b[0m\u001b[0;34m\u001b[0m\u001b[0;34m\u001b[0m\u001b[0m\n\u001b[1;32m    149\u001b[0m                 \u001b[0mecho\u001b[0m\u001b[0;34m(\u001b[0m\u001b[0;32mNone\u001b[0m\u001b[0;34m,\u001b[0m \u001b[0merr\u001b[0m\u001b[0;34m=\u001b[0m\u001b[0merr\u001b[0m\u001b[0;34m)\u001b[0m\u001b[0;34m\u001b[0m\u001b[0;34m\u001b[0m\u001b[0m\n\u001b[0;32m--> 150\u001b[0;31m             \u001b[0;32mraise\u001b[0m \u001b[0mAbort\u001b[0m\u001b[0;34m(\u001b[0m\u001b[0;34m)\u001b[0m\u001b[0;34m\u001b[0m\u001b[0;34m\u001b[0m\u001b[0m\n\u001b[0m\u001b[1;32m    151\u001b[0m \u001b[0;34m\u001b[0m\u001b[0m\n\u001b[1;32m    152\u001b[0m     \u001b[0;32mif\u001b[0m \u001b[0mvalue_proc\u001b[0m \u001b[0;32mis\u001b[0m \u001b[0;32mNone\u001b[0m\u001b[0;34m:\u001b[0m\u001b[0;34m\u001b[0m\u001b[0;34m\u001b[0m\u001b[0m\n",
      "\u001b[0;31mAbort\u001b[0m: "
     ]
    }
   ],
   "source": [
    "import opendatasets as od \n",
    "\n",
    "dataset_url = \"https://www.kaggle.com/datasets/arunkumar413/student-marks\"\n",
    "od.download(dataset_url)\n",
    "#data.head()"
   ]
  },
  {
   "cell_type": "code",
   "execution_count": null,
   "metadata": {},
   "outputs": [],
   "source": [
    "data_dir = \"./student-marks\"\n",
    "listdir(data_dir)"
   ]
  },
  {
   "cell_type": "code",
   "execution_count": null,
   "metadata": {},
   "outputs": [],
   "source": [
    "data = \"./student-marks/student_marks.csv\""
   ]
  },
  {
   "cell_type": "code",
   "execution_count": null,
   "metadata": {},
   "outputs": [],
   "source": [
    "dicts = {}\n",
    "with open(data,'r') as f:\n",
    "    lines = f.readlines()\n",
    "    for line in lines[1:]:\n",
    "        \n",
    "        line.split(',')[-1] = line.split(',')[-1].rstrip(\"\\n\")\n",
    "\n",
    "        Name,Gender,DOB,Maths,Physics,Chemistry,English,Biology,Economics,History = line.split(',')[:-1]\n",
    "        Civics = int(line.split(',')[-1])\n",
    "        Marks = [Maths,Physics,Chemistry,English,Biology,Economics,History,Civics]\n",
    "        \n",
    "        ## If no marks are assigned to student\n",
    "        for mark in Marks:\n",
    "            if (mark==''):\n",
    "                no_index = Marks.index(mark)\n",
    "                Marks[no_index] = 0 \n",
    "    \n",
    "        ## Total Marks\n",
    "        \n",
    "        dicts[Name+\"_TotalMarks\"]=(sum([int(i) for i in Marks]))\n",
    "        \n",
    "        ## AverageMarks\n",
    "        dicts[Name+\"_AvgMarks\"] = sum([int(i) for i in Marks])/8\n",
    "\n",
    "        \n",
    "print(dicts)\n",
    "    "
   ]
  },
  {
   "cell_type": "markdown",
   "metadata": {},
   "source": [
    "# Classes and obj :\n",
    "\n"
   ]
  },
  {
   "cell_type": "markdown",
   "metadata": {},
   "source": [
    "**Avengers is a Marvel’s American Superheroes team**\n",
    "\n",
    "**and if you are a fan of avengers, recently you have learned about classes and objects in your python course**\n",
    "\n",
    "**Now you want to showcase your programming skills by representing the Avengers team using classes.** \n",
    "\n",
    "**Create a class called Avenger and create these six superheroes using this class.**\n",
    "\n",
    "**super_heroes = [\"Captain America\", \"Iron Man\", \"Black Widow\", \"Hulk\", \"Thor\", \"Hawkeye\"]**"
   ]
  },
  {
   "cell_type": "markdown",
   "metadata": {},
   "source": [
    "**Your Avenger class should have these properties:**\n",
    "\n",
    "**Name**\n",
    "\n",
    "**Age**\n",
    "\n",
    "**Gender**\n",
    "\n",
    "**Super Power**\n",
    "\n",
    "**Weapon**"
   ]
  },
  {
   "cell_type": "code",
   "execution_count": 81,
   "metadata": {},
   "outputs": [
    {
     "name": "stdout",
     "output_type": "stream",
     "text": [
      "Hawkeye is Male and 36 years old with fighting skills and has a Bow and Arrows with him\n"
     ]
    },
    {
     "data": {
      "text/plain": [
       "'Hawkeye is a not the leader of super_heroes'"
      ]
     },
     "execution_count": 81,
     "metadata": {},
     "output_type": "execute_result"
    }
   ],
   "source": [
    "class Avenger:\n",
    "    def __init__(self,name,age,gender,super_power,weapon):\n",
    "        self.name = name \n",
    "        self.age = age \n",
    "        self.gender = gender\n",
    "        self.super_power = super_power \n",
    "        self.weapon = weapon\n",
    "        self.super_heroes = ['Captain America','Iron Man','Black Widow','Hulk','Thor','Hawkeye']\n",
    "    \n",
    "    def is_leader(self):\n",
    "        # Leader is the first person of alphabetical order\n",
    "        self.super_heroes.sort()\n",
    "        \n",
    "        if self.name==self.super_heroes[0]:\n",
    "            return f'{self.name} is a leader of all super_heroes'\n",
    "        else:\n",
    "            return f'{self.name} is a not the leader of super_heroes'\n",
    "            \n",
    "    def display(self):\n",
    "        print(f'{self.name} is {self.gender} and {self.age} years old with {self.super_power} and has a {self.weapon} with him')\n",
    "        \n",
    "\n",
    "        \n",
    "# Objects Creation\n",
    "captainAmerica = Avenger('Captain America','34','Male','Super Strength','Shield')\n",
    "ironMan = Avenger('Iron Man','43','Male','Technology','Armor')\n",
    "blackWidow = Avenger('Black Widow','28','Female','superhuman','Batons')\n",
    "hulk = Avenger('Hulk','39','Male','Unlimited Strength','No Weapon')\n",
    "thor = Avenger('Thor','33','Male','super Energy','Mjölnir')\n",
    "hawkeye = Avenger('Hawkeye','36','Male','fighting skills','Bow and Arrows')\n",
    "\n",
    "\n",
    "# Method calling from objects\n",
    "hawkeye.display()\n",
    "hawkeye.is_leader()\n"
   ]
  },
  {
   "cell_type": "markdown",
   "metadata": {},
   "source": [
    "# Inheritance :"
   ]
  },
  {
   "cell_type": "markdown",
   "metadata": {},
   "source": [
    "Create inheritance using MobilePhone as base class and Apple & Samsung as child class\n",
    "\n",
    "The base class should have properties:\n",
    "\n",
    "ScreenType = Touch Screen\n",
    "\n",
    "NetworkType = 4G/5G\n",
    "\n",
    "DualSim = True or False\n",
    "\n",
    "FrontCamera = (5MP/8MP/12MP/16MP)\n",
    "\n",
    "rearCamera = (8MP/12MP/16MP/32MP/48MP)\n",
    "\n",
    "RAM = (2GB/3GB/4GB)\n",
    "\n",
    "Storage = (16GB/32GB/64GB)\n",
    "\n",
    "Create basic mobile phone functionalities in the classes like: make_call, recieve_call, take_a_picture, etc.\n",
    "\n",
    "Use super() constructor for calling parent class’s constructor\n",
    "\n",
    "Make some objects of Apple class with different properties\n",
    "\n",
    "Make some objects of Samsung class with different properties"
   ]
  },
  {
   "cell_type": "code",
   "execution_count": 82,
   "metadata": {},
   "outputs": [],
   "source": [
    "class Mobilephone:\n",
    "    def __init__(self,ScreenType,NetworkType,DualSim,FrontCamera,rearCamera,RAM,Storage):\n",
    "        self.ScreenType = ScreenType\n",
    "        self.NetworkType = NetworkType \n",
    "        self.Dualsim = DualSim\n",
    "        self.FrontCamera = FrontCamera \n",
    "        self.rearCamera = rearCamera \n",
    "        self.RAM  = RAM \n",
    "        self.Storage = Storage\n",
    "        \n",
    "    def make_call(self):\n",
    "        print('Making a call!')\n",
    "    def receive_call(self):\n",
    "        print(\"Just received a call!\")\n",
    "    def take_a_picture(self):\n",
    "        print(\"Capturing the moment with camera\")\n",
    "    def playing_games(self):\n",
    "        print(\"Playing the games in mobile\")\n",
    "    def reduce_brightness(self):\n",
    "        print(\"Reducing the brightness\")"
   ]
  },
  {
   "cell_type": "code",
   "execution_count": 83,
   "metadata": {},
   "outputs": [
    {
     "data": {
      "text/plain": [
       "'Total cost of Apple is Rs.57200.0'"
      ]
     },
     "execution_count": 83,
     "metadata": {},
     "output_type": "execute_result"
    }
   ],
   "source": [
    "class Apple(Mobilephone):\n",
    "    def __init__(self,ScreenType,NetworkType,DualSim,FrontCamera,rearCamera,RAM,Storage,Brand,Cost,Version):\n",
    "        Mobilephone.__init__(self,ScreenType,NetworkType,DualSim,FrontCamera,rearCamera,RAM,Storage)\n",
    "        self.Brand = Brand\n",
    "        self.Cost = Cost \n",
    "        self.Version = Version\n",
    "    \n",
    "    def total_cost(self):\n",
    "        # Total cost is cost + 10% gst,Note:cost will vary depending on Cameras and Ram and Storage in real-world scenarios!\n",
    "        cost = self.Cost + (0.1*(self.Cost))\n",
    "        return f\"Total cost of {self.Brand} is Rs.{cost}\"\n",
    "    def warrant(self):\n",
    "        return f\"{self.Brand} has 2 years of warranty\"\n",
    "\n",
    "apple = Apple(\"Touch Screen\",'5G','True','16MP','32MP','4GB','64GB','Apple',52000,'A11')\n",
    "apple.total_cost()"
   ]
  },
  {
   "cell_type": "code",
   "execution_count": 84,
   "metadata": {},
   "outputs": [],
   "source": [
    "# Samsung too same as Apple"
   ]
  },
  {
   "cell_type": "markdown",
   "metadata": {},
   "source": [
    "# Exception Handling:"
   ]
  },
  {
   "cell_type": "markdown",
   "metadata": {},
   "source": [
    "**You have the following python code.**\n",
    "\n",
    "**lst = [int(x) for x in input().split()]**\n",
    "\n",
    "**i = int(input(\"Enter Index: \")**\n",
    "          \n",
    "**print(lst[i])**\n",
    "          \n",
    "**Use Exception Handling to handle the exception which will occur in this program.**"
   ]
  },
  {
   "cell_type": "code",
   "execution_count": 85,
   "metadata": {},
   "outputs": [
    {
     "name": "stdout",
     "output_type": "stream",
     "text": [
      "\n",
      "Enter Index: \n",
      "Index is out of list\n",
      "Error Occured:  ValueError\n"
     ]
    }
   ],
   "source": [
    "try:\n",
    "    lst = [int(x) for x in input().split()]\n",
    "    i = int(input(\"Enter Index: \"))\n",
    "    print(lst[i])\n",
    "\n",
    "except Exception as e:\n",
    "    print('Index is out of list')\n",
    "    print('Error Occured: ',type(e).__name__)\n",
    "        \n",
    "        "
   ]
  },
  {
   "cell_type": "markdown",
   "metadata": {},
   "source": [
    "You have certain employee records as a list of dictionaries. The dictionary contains the following information.\n",
    "\n",
    "Employee = {\"id\": id, \"first_name\": fname, \"middle_name\": mname, \"last_name\": lname}\n",
    "\n",
    "You are using this code to print the full name of each employee:\n",
    "\n",
    "for employee in employees:\n",
    "\n",
    "  full_name = employee['first_name'] + employee['middle_name'] + employee['last_name']\n",
    "  \n",
    "  print(full_name)\n",
    "  \n",
    "But some employees don’t have a middle_name, so the `middle_name` key will not be present in the dictionary. Use Exception \n",
    "handling to correctly print the full names of your employees."
   ]
  },
  {
   "cell_type": "code",
   "execution_count": 86,
   "metadata": {},
   "outputs": [],
   "source": [
    "Details = [{\"id\": 1, \"first_name\": \"Ram\", \"middle_name\": \"sen\", \"last_name\": \"Singh\"},{\"id\": 2, \"first_name\": \"Shyam\", \"middle_name\": None , \"last_name\": \"Singh\"}]"
   ]
  },
  {
   "cell_type": "code",
   "execution_count": 87,
   "metadata": {},
   "outputs": [],
   "source": [
    "employees = Details"
   ]
  },
  {
   "cell_type": "code",
   "execution_count": 88,
   "metadata": {},
   "outputs": [
    {
     "name": "stdout",
     "output_type": "stream",
     "text": [
      "RamsenSingh\n",
      "ShyamSingh\n"
     ]
    }
   ],
   "source": [
    "for employee in employees:\n",
    "    try:\n",
    "        full_name = employee['first_name'] + employee['middle_name'] + employee['last_name']\n",
    "    except Exception as e:\n",
    "#         print('Error: ',type(e).__name__)\n",
    "        full_name = employee['first_name']+employee['last_name']\n",
    "    print(full_name)"
   ]
  },
  {
   "cell_type": "code",
   "execution_count": 89,
   "metadata": {},
   "outputs": [
    {
     "data": {
      "application/javascript": [
       "window.require && require([\"base/js/namespace\"],function(Jupyter){Jupyter.notebook.save_checkpoint()})"
      ],
      "text/plain": [
       "<IPython.core.display.Javascript object>"
      ]
     },
     "metadata": {},
     "output_type": "display_data"
    },
    {
     "name": "stdout",
     "output_type": "stream",
     "text": [
      "[jovian] Updating notebook \"kishkath/python-basics\" on https://jovian.ai\u001b[0m\n",
      "[jovian] Committed successfully! https://jovian.ai/kishkath/python-basics\u001b[0m\n"
     ]
    },
    {
     "data": {
      "text/plain": [
       "'https://jovian.ai/kishkath/python-basics'"
      ]
     },
     "execution_count": 89,
     "metadata": {},
     "output_type": "execute_result"
    }
   ],
   "source": [
    "jovian.commit(\"python-basics\")"
   ]
  },
  {
   "cell_type": "code",
   "execution_count": null,
   "metadata": {},
   "outputs": [],
   "source": []
  },
  {
   "cell_type": "markdown",
   "metadata": {},
   "source": [
    "# ReGEX"
   ]
  },
  {
   "cell_type": "code",
   "execution_count": 4,
   "metadata": {},
   "outputs": [],
   "source": [
    "import re"
   ]
  },
  {
   "cell_type": "code",
   "execution_count": null,
   "metadata": {},
   "outputs": [],
   "source": []
  },
  {
   "cell_type": "markdown",
   "metadata": {},
   "source": [
    "From the following paragraph extract directions and refill.\n",
    "\n",
    "text = \"Directions:\n",
    "\n",
    "Prednisone, Taper 5 mg every 3 days, \n",
    "\n",
    "Finish in 2.5 weeks a Lialda - take 2 pills everyday for 1 month\n",
    "\n",
    "Refill: 2 times\"\n",
    "\n",
    "Directions would be any text between \"Directions:\" and \"Refill:\" whereas Refill would be anything between \"Refill:\" and \"times\" (i.e. answer is 2 in the above case)"
   ]
  },
  {
   "cell_type": "code",
   "execution_count": 27,
   "metadata": {},
   "outputs": [],
   "source": [
    "text =  \"Directions: Prednisone, Taper 5 mg every 3 days,Finish in 2.5 weeks a Lialda - take 2 pills everyday for 1 month, Refill: 2 times\""
   ]
  },
  {
   "cell_type": "code",
   "execution_count": 28,
   "metadata": {},
   "outputs": [],
   "source": [
    "pattern = \"Directions:(.*)..Refill\"\n",
    "pattern2 = \"Refill:(.*)\""
   ]
  },
  {
   "cell_type": "code",
   "execution_count": 29,
   "metadata": {},
   "outputs": [
    {
     "data": {
      "text/plain": [
       "[' Prednisone, Taper 5 mg every 3 days,Finish in 2.5 weeks a Lialda - take 2 pills everyday for 1 month']"
      ]
     },
     "execution_count": 29,
     "metadata": {},
     "output_type": "execute_result"
    }
   ],
   "source": [
    "re.findall(pattern,text)"
   ]
  },
  {
   "cell_type": "code",
   "execution_count": 30,
   "metadata": {},
   "outputs": [
    {
     "data": {
      "text/plain": [
       "[' 2 times']"
      ]
     },
     "execution_count": 30,
     "metadata": {},
     "output_type": "execute_result"
    }
   ],
   "source": [
    "re.findall(pattern2,text)"
   ]
  },
  {
   "cell_type": "markdown",
   "metadata": {},
   "source": [
    "**Extract all Twitter handles from the following text (i.e. your answer should be teslarati, dummy_tesla, and dummy_2_tesla).** **Twitter handle is the text that appears after https://twitter.com/ and is a single word. Also, it contains only alphanumeric** ****characters i.e. A-Z a-z, o to 9, and underscore _**"
   ]
  },
  {
   "cell_type": "code",
   "execution_count": 31,
   "metadata": {},
   "outputs": [],
   "source": [
    "text2 = '''\n",
    "Follow our leader Elon musk on Twitter \n",
    "here: https://twitter.com/elonmusk, more information \n",
    "on Tesla's products can be found at https://www.tesla.com/. \n",
    "Also here are leading influencers for tesla-related news, \n",
    "https://twitter.com/teslarati\n",
    "https://twitter.com/dummy_tesla\n",
    "https://twitter.com/dummy_2_tesla\"\n",
    "'''"
   ]
  },
  {
   "cell_type": "code",
   "execution_count": 40,
   "metadata": {},
   "outputs": [],
   "source": [
    "pattern = r\"twitter.com/(.*)\\n\""
   ]
  },
  {
   "cell_type": "code",
   "execution_count": 44,
   "metadata": {},
   "outputs": [
    {
     "name": "stdout",
     "output_type": "stream",
     "text": [
      "['elonmusk, more information ', 'teslarati', 'dummy_tesla', 'dummy_2_tesla\"']\n"
     ]
    }
   ],
   "source": [
    "a= re.findall(pattern,text2)\n",
    "print(a)"
   ]
  },
  {
   "cell_type": "code",
   "execution_count": 45,
   "metadata": {},
   "outputs": [
    {
     "name": "stdout",
     "output_type": "stream",
     "text": [
      "['teslarati', 'dummy_tesla', 'dummy_2_tesla\"']\n"
     ]
    }
   ],
   "source": [
    "print(a[1:])"
   ]
  },
  {
   "cell_type": "code",
   "execution_count": null,
   "metadata": {},
   "outputs": [],
   "source": []
  }
 ],
 "metadata": {
  "language_info": {
   "codemirror_mode": {
    "name": "ipython",
    "version": 3
   },
   "file_extension": ".py",
   "mimetype": "text/x-python",
   "name": "python",
   "nbconvert_exporter": "python",
   "pygments_lexer": "ipython3",
   "version": "3.9.6"
  }
 },
 "nbformat": 4,
 "nbformat_minor": 2
}